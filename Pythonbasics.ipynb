{
  "nbformat": 4,
  "nbformat_minor": 0,
  "metadata": {
    "colab": {
      "provenance": []
    },
    "kernelspec": {
      "name": "python3",
      "display_name": "Python 3"
    },
    "language_info": {
      "name": "python"
    }
  },
  "cells": [
    {
      "cell_type": "markdown",
      "source": [
        "# Python Basics"
      ],
      "metadata": {
        "id": "ZyKneOSqKKI7"
      }
    },
    {
      "cell_type": "markdown",
      "source": [
        "1. What is Python, and why is it popular?\n",
        " - Python is high level, interpreted, general purpose programming language developed in 1991 by Guido van Rossum. it is Open-Source language and works in all major operating system.\n",
        " - Python is one of the most popular language in the world because it is easy to learn (use mostly single english statements) to manipulate, versatile, cross platform and strong libraries and frameworks. Python used everywhere in IT industry like in web development, Data Science, Automation and scripting and in Game development.\n",
        "\n"
      ],
      "metadata": {
        "id": "0n-iqeIEGC9o"
      }
    },
    {
      "cell_type": "markdown",
      "source": [
        "2. What is an interpreter in Python?\n",
        " - Python is an Interpreted Language means the interpreter executes code line by line. Python interpreter takes file in .py format and convert it into bytecode. through interpreter easy to debug the code and it also have cross platform copatability"
      ],
      "metadata": {
        "id": "Pk8XKvCKIr0X"
      }
    },
    {
      "cell_type": "markdown",
      "source": [
        "3. What are pre-defined keywords in Python\n",
        "- In python predefined keywords are reserved words that already have special meaning in language and perform specific task. They are part of python syntax which you can not use as a variable, function name and as an identifier in program. There are 35 Keywords in Pythonand they are case sensitive. They define structure and cantrol flow of python programs.\n"
      ],
      "metadata": {
        "id": "m-dcyFEYTLcI"
      }
    },
    {
      "cell_type": "markdown",
      "source": [
        "4. Can keywords be used as variable names?\n",
        "- No keywords cannot be used as variable names in Python because they are reserved by the language to define its syntax and structure.\n",
        "\n",
        "- If we try to use keyword as a variable, Python will throw a SyntaxError.\n",
        "- If we use keywords as variable names, the interpreter would get confused about whether we are writing code structure.\n",
        "- But if we use _ with keyword like print(if_) it does not show any error.\n"
      ],
      "metadata": {
        "id": "cByZv-B_Up42"
      }
    },
    {
      "cell_type": "markdown",
      "source": [
        "5. What is mutability in Python?\n",
        " - Mutability means whether the value of an object can be changed after it is created.\n",
        "\n",
        "- If the content of object can be updated without changing its identity then the object is mutable. For Ex. List, Dictionaory, Sets etc.\n",
        "\n",
        "If it cannot be changed once created, it is immutable. For Ex. int, Float, Tuole etc.\n"
      ],
      "metadata": {
        "id": "Rl7mNpcVWDg7"
      }
    },
    {
      "cell_type": "markdown",
      "source": [
        "6. Why are lists mutable, but tuples are immutable?\n",
        " - Python is interpreted and high level language and used in various industries like Banking, Sales and many more. So there are we have many types of tasks to perform in which we store something unique data which has seperate for all. For Ex. Aadhar card number. So this type of data stored one time and no need to chanege again and again. So to handle this type of data python created inbuilt functions in which some behaves like mutable and some like immutable.\n",
        " - A list is designed to be a dynamic collection. we can add, remove, or modify elements in place. Python keeps the same memory reference id when we update a list, which makes it efficient for changes.\n",
        "\n",
        "  - A tuple is designed to be a fixed collection. Once created, we cannot add, remove, or modify elements. If we try, Python raises a TypeError\n"
      ],
      "metadata": {
        "id": "4LmMEzkBY4is"
      }
    },
    {
      "cell_type": "markdown",
      "source": [
        "7. What is the difference between “==” and “is” operators in Python\n",
        "  \n",
        "   **Equality operator (==)**\n",
        " - Checks values are equal\n",
        " - Campares value\n",
        "\n",
        "   **Identity operator (is)**\n",
        " - Checks If two variables are same (same memory location)\n",
        " - Campares object identity or memory adress"
      ],
      "metadata": {
        "id": "W0NrJ_c4bHAd"
      }
    },
    {
      "cell_type": "markdown",
      "source": [
        "8. What are logical operators in Python ?\n",
        " - Logical operators are used to combine conditional or Boolean statements.\n",
        "They always return either True or False.\n",
        "\n",
        "  - Python has 3 logical operators:\n",
        "    - and = both must be true\n",
        "    - or =  at least one must be true\n",
        "    - not = reverses the truth value"
      ],
      "metadata": {
        "id": "UX22pEzfeBdc"
      }
    },
    {
      "cell_type": "markdown",
      "source": [
        "9. What is type casting in Python\n",
        " - Type casting means converting one data type into another. In Python, we can change values from int → float, float → int, string → int, etc. When we take input from user by default it can store in string format doen't matter we enter float value or int value so thats why type casting need to convert value from string to any format. but through type casting its not possible to change chractors which are string in integer type.\n",
        "\n",
        " - Python provides built-in functions for type casting:\n",
        "   - int() = converts to integer\n",
        "   - float() = converts to float\n",
        "   - str() = converts to string\n",
        "   - bool() = converts to boolean"
      ],
      "metadata": {
        "id": "vFj4WqZsfN0J"
      }
    },
    {
      "cell_type": "markdown",
      "source": [
        "10. What is the difference between implicit and explicit type casting ?\n",
        " - When typecating done automatically by python inbuilt system called implicit typecasting For Ex.\n",
        "   - x = 5         int\n",
        "   - y = 2.5       float\n",
        "   - z = x + y     int + float → float\n",
        "   - print(z)      7.5 (float)\n",
        " - In this example int is automatically converted into float.\n",
        "\n",
        " - When type casting done manually by using int(), float(), str() this type of casting called explicit typecasting. For ex.\n",
        " a = int(input('enter value: '))\n",
        " - here int() is used to convert enter value by user in integer type\n"
      ],
      "metadata": {
        "id": "71GcDjxegmFI"
      }
    },
    {
      "cell_type": "markdown",
      "source": [
        "11. What is the purpose of conditional statements in Python\n",
        " - Conditional statements are used to make decisions in a program. They allow the program to execute certain blocks of code only if a condition is true.\n",
        "This helps control the flow of execution and makes programs more dynamic and logical.\n",
        " - Conditional statements help a Python program decide what to do next based on conditions (like if, elif, else)"
      ],
      "metadata": {
        "id": "HqGN1_NFki5b"
      }
    },
    {
      "cell_type": "markdown",
      "source": [
        " 12. How does the elif statement work\n",
        "\n",
        " - The elif statement is used when we need to check multiple conditions in sequence.\n",
        " - Python evaluates conditions from top to bottom:\n",
        "   - If the first if condition is true → its block runs, and the rest are skipped.\n",
        "   - If the first condition is false → Python checks the elif condition(s).\n",
        "   - If an elif condition is true → its block runs, and remaining conditions are ignored.\n",
        "   - If none are true → the else block (if present) runs.\n",
        " - elif helps test more than one condition without writing multiple separate if statements."
      ],
      "metadata": {
        "id": "-eDRRKx0k-1F"
      }
    },
    {
      "cell_type": "markdown",
      "source": [
        "13. What is the difference between for and while loops?\n",
        " - For Loop:\n",
        "   - Used when the number of iterations is known in advance.\n",
        "   - It repeats a block of code for each element in a sequence (like list, tuple, string, or range).\n",
        "   - Best for definite iteration.\n",
        "\n",
        " - While Loop:\n",
        "   - Used when the number of iterations is not known in advance.\n",
        "   - It keeps running as long as a given condition is true.\n",
        "   - Best for indefinite iteration."
      ],
      "metadata": {
        "id": "XEX4q3r_l2_s"
      }
    },
    {
      "cell_type": "markdown",
      "source": [
        " 14. Describe a scenario where a while loop is more suitable than a for loop.\n",
        "\n",
        " - A while loop is more suitable when the number of iterations is not known in advance and depends on a condition being met.\n",
        " - Example scenario:\n",
        "Suppose we are writing a program that asks a user to enter a password.\n",
        "The program should keep asking until the correct password is entered.\n",
        "Since we don’t know how many attempts the user will take, a while loop is more appropriate than a for loop."
      ],
      "metadata": {
        "id": "q2kbxbTvnGuq"
      }
    },
    {
      "cell_type": "code",
      "source": [
        "# 1. Write a Python program to print \"Hello, World!\"\n",
        "print('Hello, World!')\n"
      ],
      "metadata": {
        "colab": {
          "base_uri": "https://localhost:8080/"
        },
        "id": "bIT2kOFNd8xU",
        "outputId": "c4ea9f3c-44b1-48fe-cf94-2b8b798fd0fb"
      },
      "execution_count": 1,
      "outputs": [
        {
          "output_type": "stream",
          "name": "stdout",
          "text": [
            "Hello, World!\n"
          ]
        }
      ]
    },
    {
      "cell_type": "code",
      "source": [
        "#2.  Write a Python program that displays your name and age\n",
        "print(\"Name: Yuvraj Sharma\")\n",
        "print('Age: 25')"
      ],
      "metadata": {
        "colab": {
          "base_uri": "https://localhost:8080/"
        },
        "id": "8jGsS71Oo0T2",
        "outputId": "693e9658-0c32-493f-bcad-ca75422317c3"
      },
      "execution_count": 6,
      "outputs": [
        {
          "output_type": "stream",
          "name": "stdout",
          "text": [
            "Name: Yuvraj Sharma\n",
            "Age: 25\n"
          ]
        }
      ]
    },
    {
      "cell_type": "code",
      "source": [
        "# 3. Write code to print all the pre-defined keywords in Python using the keyword library\n",
        "help('keywords')\n"
      ],
      "metadata": {
        "colab": {
          "base_uri": "https://localhost:8080/"
        },
        "id": "1n8XesfZqCbi",
        "outputId": "cde13344-ad64-4ea4-c642-3967f66ed01c"
      },
      "execution_count": 12,
      "outputs": [
        {
          "output_type": "stream",
          "name": "stdout",
          "text": [
            "\n",
            "Here is a list of the Python keywords.  Enter any keyword to get more help.\n",
            "\n",
            "False               class               from                or\n",
            "None                continue            global              pass\n",
            "True                def                 if                  raise\n",
            "and                 del                 import              return\n",
            "as                  elif                in                  try\n",
            "assert              else                is                  while\n",
            "async               except              lambda              with\n",
            "await               finally             nonlocal            yield\n",
            "break               for                 not                 \n",
            "\n"
          ]
        }
      ]
    },
    {
      "cell_type": "code",
      "source": [
        "# 4. Write a program that checks if a given word is a Python keyword\n",
        "import keyword\n",
        "a = input('enter a word: ')\n",
        "if keyword.iskeyword(a):\n",
        "  print('Given word is a python keyword')\n",
        "else:\n",
        "  print(a)"
      ],
      "metadata": {
        "colab": {
          "base_uri": "https://localhost:8080/"
        },
        "id": "SJa2dgTNqCWo",
        "outputId": "cce50b83-3929-4bd3-8e47-7548ab1877b0"
      },
      "execution_count": 16,
      "outputs": [
        {
          "output_type": "stream",
          "name": "stdout",
          "text": [
            "enter a word: hello\n",
            "hello\n"
          ]
        }
      ]
    },
    {
      "cell_type": "code",
      "source": [
        "# 5. Create a list and tuple in Python, and demonstrate how attempting to change an element works differently for each.\n",
        "list = [1,2,3,4,5]  #list is created and 5 values are added in it.\n",
        "list[1] = 'Orange'  # the value assigned in list from left to right is start from o and then 1,2.3 and from right to left value assignes in memory starts from -1 and then -1,-2 ...\n",
        "list[3] = 'Apple'   # same here by entering list 3 = apple From list 4 is replaced with apple\n",
        "print(list)         # last step we simply print the list"
      ],
      "metadata": {
        "colab": {
          "base_uri": "https://localhost:8080/"
        },
        "id": "Pxh03LaGqCRW",
        "outputId": "387ace30-a11e-4253-c322-05cfd73b206a"
      },
      "execution_count": 18,
      "outputs": [
        {
          "output_type": "stream",
          "name": "stdout",
          "text": [
            "[1, 'Orange', 3, 'Apple', 5]\n"
          ]
        }
      ]
    },
    {
      "cell_type": "code",
      "source": [
        "# 6. Now demonstrate tuple\n",
        "name = ('a','b','c','d') # list craeted by using small brackets\n",
        "name[0] = 'Apple'        # value changed operation applied\n",
        "print(name)              # statement to get results and it show an error"
      ],
      "metadata": {
        "colab": {
          "base_uri": "https://localhost:8080/",
          "height": 193
        },
        "id": "PZemEgR-qB2-",
        "outputId": "af29c170-13d0-45a4-ec4d-a3f802d6da69"
      },
      "execution_count": 26,
      "outputs": [
        {
          "output_type": "error",
          "ename": "TypeError",
          "evalue": "'tuple' object does not support item assignment",
          "traceback": [
            "\u001b[0;31m---------------------------------------------------------------------------\u001b[0m",
            "\u001b[0;31mTypeError\u001b[0m                                 Traceback (most recent call last)",
            "\u001b[0;32m/tmp/ipython-input-947588412.py\u001b[0m in \u001b[0;36m<cell line: 0>\u001b[0;34m()\u001b[0m\n\u001b[1;32m      1\u001b[0m \u001b[0;31m# Now demonstrate tuple\u001b[0m\u001b[0;34m\u001b[0m\u001b[0;34m\u001b[0m\u001b[0m\n\u001b[1;32m      2\u001b[0m \u001b[0mname\u001b[0m \u001b[0;34m=\u001b[0m \u001b[0;34m(\u001b[0m\u001b[0;34m'a'\u001b[0m\u001b[0;34m,\u001b[0m\u001b[0;34m'b'\u001b[0m\u001b[0;34m,\u001b[0m\u001b[0;34m'c'\u001b[0m\u001b[0;34m,\u001b[0m\u001b[0;34m'd'\u001b[0m\u001b[0;34m)\u001b[0m\u001b[0;34m\u001b[0m\u001b[0;34m\u001b[0m\u001b[0m\n\u001b[0;32m----> 3\u001b[0;31m \u001b[0mname\u001b[0m\u001b[0;34m[\u001b[0m\u001b[0;36m0\u001b[0m\u001b[0;34m]\u001b[0m \u001b[0;34m=\u001b[0m \u001b[0;34m'Apple'\u001b[0m\u001b[0;34m\u001b[0m\u001b[0;34m\u001b[0m\u001b[0m\n\u001b[0m\u001b[1;32m      4\u001b[0m \u001b[0mprint\u001b[0m\u001b[0;34m(\u001b[0m\u001b[0mname\u001b[0m\u001b[0;34m)\u001b[0m\u001b[0;34m\u001b[0m\u001b[0;34m\u001b[0m\u001b[0m\n",
            "\u001b[0;31mTypeError\u001b[0m: 'tuple' object does not support item assignment"
          ]
        }
      ]
    },
    {
      "cell_type": "code",
      "source": [
        "# 7. Write a program that performs basic arithmetic operations on two user-input numbers\n",
        "x= int(input(\"enter first number:\"))\n",
        "y= int(input(\"enter second number:\"))\n",
        "print(\"Options:\")\n",
        "print(\"type 'add' for addition\")\n",
        "print(\"type'minus' for substraction\")\n",
        "print(\"type'product' for multiplication\")\n",
        "print(\"type'divide' for division\")\n",
        "print(\"enter 'exit' to quit the program\")\n",
        "\n",
        "while True:\n",
        "    choice = input(\"\\nenter your choice:\")\n",
        "\n",
        "    if choice == 'add':\n",
        "        print(\"addition of two numbers is:\",x + y)\n",
        "    elif choice == 'minus':\n",
        "        print(\"substraction of two numbers is:\",x - y)\n",
        "    elif choice == 'product':\n",
        "        print(\"Multiplication of two numbers is:\",x * y)\n",
        "    elif choice == 'divide':\n",
        "        if y != 0:\n",
        "            print(\"division of two numbers is:\",x / y)\n",
        "        else:\n",
        "            print(\"'error'division with zero is not allowed!\")\n",
        "    elif choice == 'exit':\n",
        "        print(\"Exiting the calculator... Goodbye!\")\n",
        "        break\n",
        "\n",
        "    else:\n",
        "        print(\"invalid choice! please enter valid input\")\n",
        "\n",
        "\n"
      ],
      "metadata": {
        "colab": {
          "base_uri": "https://localhost:8080/"
        },
        "id": "hYfEoOTWqBx5",
        "outputId": "2b1a5267-3b83-4c3a-f4db-4c4b6582373d"
      },
      "execution_count": 27,
      "outputs": [
        {
          "output_type": "stream",
          "name": "stdout",
          "text": [
            "Options:\n",
            "type 'add' for addition\n",
            "type'minus' for substraction\n",
            "type'product' for multiplication\n",
            "type'divide' for division\n",
            "enter 'exit' to quit the program\n",
            "addition of two numbers is: 9\n",
            "\n",
            "enter your choice:exit\n",
            "Exiting the calculator... Goodbye!\n"
          ]
        }
      ]
    },
    {
      "cell_type": "code",
      "source": [
        "# 8. Write a program to demonstrate the use of logical operators\n",
        "\n",
        "x = 10\n",
        "y = 5\n",
        "\n",
        "# AND operator\n",
        "if x > 5 and y < 10:\n",
        "    print(\"AND condition is True\")\n",
        "\n",
        "# OR operator\n",
        "if x < 5 or y < 10:\n",
        "    print(\"OR condition is True\")\n",
        "\n",
        "# NOT operator\n",
        "if not (x < y):\n",
        "    print(\"NOT condition is True\")\n"
      ],
      "metadata": {
        "colab": {
          "base_uri": "https://localhost:8080/"
        },
        "id": "i93PW1YfqBtO",
        "outputId": "bdf29343-ce2e-4600-a187-18460e7ec741"
      },
      "execution_count": 33,
      "outputs": [
        {
          "output_type": "stream",
          "name": "stdout",
          "text": [
            "AND condition is True\n",
            "OR condition is True\n",
            "NOT condition is True\n"
          ]
        }
      ]
    },
    {
      "cell_type": "code",
      "source": [
        "# 9. Write a Python program to convert user input from string to integer, float, and boolean types\n",
        "\n",
        "# Take user input\n",
        "value = input(\"Enter something: \")\n",
        "\n",
        "# Convert into different types\n",
        "x = int(value)\n",
        "y = float(value)\n",
        "z = bool(value)\n",
        "\n",
        "# Print results\n",
        "print(\"String:\", value)\n",
        "print(\"Integer:\", x)\n",
        "print(\"Float:\", y)\n",
        "print(\"Boolean:\", z)  # working only for integer value because if we enter charactor type then it can not be converted into int and float type so show error"
      ],
      "metadata": {
        "colab": {
          "base_uri": "https://localhost:8080/"
        },
        "id": "fPKt_AdF3H7u",
        "outputId": "ba446aa4-b972-4dc0-de11-dd262218eefc"
      },
      "execution_count": 32,
      "outputs": [
        {
          "output_type": "stream",
          "name": "stdout",
          "text": [
            "Enter something: 1\n",
            "String: 1\n",
            "Integer: 1\n",
            "Float: 1.0\n",
            "Boolean: True\n"
          ]
        }
      ]
    },
    {
      "cell_type": "code",
      "source": [
        "# 10. Write code to demonstrate type casting with list elements.\n",
        "# List with string numbers\n",
        "numbers = [\"10\", \"20\", \"30\", \"40\"]\n",
        "\n",
        "print(\"Original list (strings):\", numbers)\n",
        "\n",
        "# Convert each element into integer\n",
        "int_list = [int(x) for x in numbers]\n",
        "print(\"List after casting to integers:\", int_list)\n",
        "\n",
        "# Convert each element into float\n",
        "float_list = [float(x) for x in numbers]\n",
        "print(\"List after casting to floats:\", float_list)\n"
      ],
      "metadata": {
        "id": "nCROxN0C6t8B"
      },
      "execution_count": null,
      "outputs": []
    },
    {
      "cell_type": "code",
      "source": [
        "# 11.  Write a program that checks if a number is positive, negative, or zero.\n",
        "\n",
        "x = int(input('enter a number: '))\n",
        "if (x<0):\n",
        "  print(x,'is Negative number')\n",
        "elif (x>0):\n",
        "  print(x,'is Positive number')\n",
        "else:\n",
        "  print(x,'Entered number is Zero')"
      ],
      "metadata": {
        "colab": {
          "base_uri": "https://localhost:8080/"
        },
        "id": "RM0N22ph8tyG",
        "outputId": "3825f2c4-2058-46ba-c487-85e1ac27381f"
      },
      "execution_count": 36,
      "outputs": [
        {
          "output_type": "stream",
          "name": "stdout",
          "text": [
            "enter a number: 17\n",
            "17 is Positive number\n"
          ]
        }
      ]
    },
    {
      "cell_type": "code",
      "source": [
        "# 12. Write a for loop to print numbers from 1 to 10\n",
        "\n",
        "x=1\n",
        "for x in range (1,11):\n",
        "  print(x)"
      ],
      "metadata": {
        "colab": {
          "base_uri": "https://localhost:8080/"
        },
        "id": "uOorL6HJ-KTB",
        "outputId": "a8e232de-f398-42a2-ba42-afe44cb266b9"
      },
      "execution_count": 39,
      "outputs": [
        {
          "output_type": "stream",
          "name": "stdout",
          "text": [
            "1\n",
            "2\n",
            "3\n",
            "4\n",
            "5\n",
            "6\n",
            "7\n",
            "8\n",
            "9\n",
            "10\n"
          ]
        }
      ]
    },
    {
      "cell_type": "code",
      "source": [
        "# 13. Write a Python program to find the sum of all even numbers between 1 and 50.\n",
        "i=2\n",
        "sum = 0\n",
        "while (i<=50):\n",
        "  if (i%2==0):\n",
        "    sum = sum + i\n",
        "  i+=2\n",
        "print(sum)\n"
      ],
      "metadata": {
        "colab": {
          "base_uri": "https://localhost:8080/"
        },
        "id": "htv-ODnh_SPY",
        "outputId": "89b69e7c-97dd-4c86-9dab-009823eb3e0b"
      },
      "execution_count": 43,
      "outputs": [
        {
          "output_type": "stream",
          "name": "stdout",
          "text": [
            "650\n"
          ]
        }
      ]
    },
    {
      "cell_type": "code",
      "source": [
        "# 14. Write a program to reverse a string using a while loop.\n",
        "\n",
        "x = input(\"Enter a string: \")\n",
        "reversed_x = \"\"\n",
        "\n",
        "i = len(x) - 1   # last index se start karenge\n",
        "\n",
        "while i >= 0:\n",
        "    reversed_x += x[i]\n",
        "    i -= 1\n",
        "\n",
        "print(\"Reversed string:\", reversed_x)\n"
      ],
      "metadata": {
        "colab": {
          "base_uri": "https://localhost:8080/"
        },
        "id": "20F2cSJ0BPwc",
        "outputId": "0cd2eb53-f8fe-4f38-b655-827f90a2162d"
      },
      "execution_count": 45,
      "outputs": [
        {
          "output_type": "stream",
          "name": "stdout",
          "text": [
            "Enter a string: yuvraj\n",
            "Reversed string: jarvuy\n"
          ]
        }
      ]
    },
    {
      "cell_type": "code",
      "source": [
        "#  Write a Python program to calculate the factorial of a number provided by the user using a while loop\n",
        "n = int(input('enter a number: '))\n",
        "i=n\n",
        "factorial=1\n",
        "while i>0:\n",
        "  factorial = factorial * i\n",
        "  i-=1\n",
        "print(factorial)"
      ],
      "metadata": {
        "colab": {
          "base_uri": "https://localhost:8080/"
        },
        "id": "X_27URhqFCvN",
        "outputId": "1b7d0b34-a4fb-4d77-c15b-fe639e828778"
      },
      "execution_count": 47,
      "outputs": [
        {
          "output_type": "stream",
          "name": "stdout",
          "text": [
            "enter a number: 5\n",
            "120\n"
          ]
        }
      ]
    }
  ]
}