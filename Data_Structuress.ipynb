{
  "nbformat": 4,
  "nbformat_minor": 0,
  "metadata": {
    "colab": {
      "provenance": []
    },
    "kernelspec": {
      "name": "python3",
      "display_name": "Python 3"
    },
    "language_info": {
      "name": "python"
    }
  },
  "cells": [
    {
      "cell_type": "markdown",
      "source": [
        "# Data Structures"
      ],
      "metadata": {
        "id": "k3-eiY3xyt0m"
      }
    },
    {
      "cell_type": "markdown",
      "source": [
        "# Q1. DP What are data structures, and why are they important3\n",
        " - Data structures are ways of organizing and storing data so that they can be used efficiently. They define how data is arranged, accessed, and manipulated in a program.\n",
        "  We have 4 common builtin Data structures:\n",
        "  - List – ordered and mutable collection.\n",
        "\n",
        "  - Tuple – ordered and immutable collection.\n",
        "\n",
        "  - Set – unordered collection of unique elements.\n",
        "\n",
        "  - Dictionary – key-value pair mapping.\n",
        "\n",
        "  **Importance of Data Structures**\n",
        "\n",
        "  - Efficient data storage – helps in storing large amounts of data systematically.\n",
        "\n",
        "  - Easy data access – allows quick searching, updating, and retrieval.\n",
        "\n",
        "  - Better performance – optimized use of memory and processing time.\n",
        "\n",
        "  - Code clarity – makes programs easier to write, read, and maintain.\n",
        "\n",
        "  - Problem solving – many algorithms depend on the proper use of data structures."
      ],
      "metadata": {
        "id": "45Idm3V4yzw8"
      }
    },
    {
      "cell_type": "markdown",
      "source": [
        " # Q2. Explain the difference between mutable and immutable data types with examples\n",
        "\n",
        "  - **Mutable Data Types**\n",
        "\n",
        "     - Mutable data types are those whose values can be changed after creation.\n",
        "     - Examples: List, Dictionary, Set.\n",
        "\n",
        "  - **Immutable Data Types**\n",
        "\n",
        "     - Immutable data types are those whose values cannot be changed after creation. If we try to change them, a new object is created.\n",
        "     - Examples: String, Tuple, Integer, Float.\n"
      ],
      "metadata": {
        "id": "gqVVuj9Gy0p-"
      }
    },
    {
      "cell_type": "markdown",
      "source": [
        "# Q3. What are the main differences between lists and tuples in Python\n",
        "\n",
        "  - Mutability\n",
        "\n",
        "     - List - Mutable (we can change, add, or remove elements).\n",
        "\n",
        "     - Tuple - Immutable (we cannot change elements once created).\n",
        "\n",
        "  - Syntax\n",
        "\n",
        "     - List - Defined using square brackets [ ].\n",
        "\n",
        "     - Tuple - Defined using round brackets ( ).\n",
        "\n",
        "  - Performance\n",
        "\n",
        "     - List - Slower because it is mutable.\n",
        "\n",
        "     - Tuple - Faster because it is immutable.\n",
        "\n",
        "  - Use Case\n",
        "\n",
        "     - List - Used when data needs to be modified.\n",
        "\n",
        "     - Tuple - Used when data should remain constant."
      ],
      "metadata": {
        "id": "58C_S9VOy1PJ"
      }
    },
    {
      "cell_type": "markdown",
      "source": [
        "# Q4. Describe how dictionaries store data?\n",
        "  - A dictionary is a built-in data structure in Python that stores data in the form of key-value pairs.\n",
        "\n",
        " **Storage Method**\n",
        "\n",
        "  - Each item in a dictionary has a unique key and a corresponding value.\n",
        "\n",
        "  - Data is stored internally using a hashing technique, which makes lookup very fast.\n",
        "\n",
        "**Properties**\n",
        "\n",
        "  - Keys must be unique and immutable (e.g., string, number, tuple).\n",
        "\n",
        "  - Values can be of any data type and can be duplicated.\n",
        "\n",
        "  - Dictionaries are unordered (before Python 3.7) but maintain insertion order (from Python 3.7 onwards).\n",
        "\n",
        "**Example**\n",
        "\n",
        "  - student = {\"name\": \"Alex\", \"age\": 20, \"grade\": \"A\"}\n",
        "\n"
      ],
      "metadata": {
        "id": "KwIpznMFy1wO"
      }
    },
    {
      "cell_type": "markdown",
      "source": [
        "# Q5. Why might you use a set instead of a list in Python?\n",
        "\n",
        " - **Uniqueness**\n",
        "\n",
        "   - A set automatically removes duplicate elements, while a list can store duplicates.\n",
        "\n",
        " - **Performance**\n",
        "\n",
        "   - Searching and membership testing (in keyword) is faster in sets because they use hashing.\n",
        "\n",
        " - **Use Case**\n",
        "\n",
        "   - Sets are useful when you need to store only unique values and perform operations like union, intersection, or difference.\n",
        "\n",
        " - **Example:**\n",
        "\n",
        "   - numbers = {1, 2, 3, 3, 4} → Output: {1, 2, 3, 4}\n"
      ],
      "metadata": {
        "id": "BqRcAplt176A"
      }
    },
    {
      "cell_type": "markdown",
      "source": [
        " # Q6. What is a string in Python, and how is it different from a list?\n",
        "\n",
        "  - **String**\n",
        "\n",
        "    - A string is a sequence of characters enclosed in single quotes (' '), double quotes (\" \"), or triple quotes (''' ''').\n",
        "\n",
        "    - Strings are immutable, meaning their content cannot be changed after creation.\n",
        "    - Example: \"Hello\"\n",
        "\n",
        " - **List**\n",
        "\n",
        "    - A list is an ordered collection of elements (which can be of different data types) enclosed in square brackets [ ].\n",
        "\n",
        "    - Lists are mutable, meaning elements can be added, removed, or modified.\n",
        "\n",
        "    - Example: [10, \"Hello\", 3.5]\n",
        "\n",
        " - **Key Difference**\n",
        "\n",
        "    - String - sequence of characters, immutable.\n",
        "\n",
        "    - List - sequence of elements (any type), mutable.\n"
      ],
      "metadata": {
        "id": "ZAARD1y717of"
      }
    },
    {
      "cell_type": "markdown",
      "source": [
        " # Q7. How do tuples ensure data integrity in Python?\n",
        "\n",
        "  - Tuples ensure data integrity because they are immutable. Once a tuple is created, its elements cannot be changed, added, or deleted. This prevents accidental modification of data and keeps the stored information safe and consistent throughout the program.\n"
      ],
      "metadata": {
        "id": "3as1a-P117WE"
      }
    },
    {
      "cell_type": "markdown",
      "source": [
        "# Q8. What is a hash table, and how does it relate to dictionaries in Python?\n",
        "\n",
        " - A hash table is a data structure that stores data in the form of key–value pairs. It uses a hashing function to convert each key into a specific memory location called a hash value or index, which makes data storage and retrieval very fast.\n",
        "\n",
        " - In Python, a dictionary is implemented using a hash table. The keys of a dictionary are hashed, and their values are stored at the corresponding hash location. Because of this, looking up, inserting, or deleting elements in a dictionary is very efficient.\n"
      ],
      "metadata": {
        "id": "ssLUzcvg169n"
      }
    },
    {
      "cell_type": "markdown",
      "source": [
        "# Q9. Can lists contain different data types in Python?\n",
        "\n",
        " - Yes, lists can contain different data types.\n",
        "   - A list is a collection that can store elements of mixed types, such as integers, strings, floats, or even other lists.\n",
        "\n",
        " - This flexibility makes lists very powerful for handling complex data.\n",
        "\n",
        " - Example\n",
        "\n",
        "   - my_list = [10, \"Hello\", 3.14, [1, 2, 3]]\n",
        "\n",
        " - Here, the list contains an integer, a string, a float, and another list.\n",
        "Unlike arrays in some other languages, Python lists are not restricted to a single data type."
      ],
      "metadata": {
        "id": "_EUtb62s-ccE"
      }
    },
    {
      "cell_type": "markdown",
      "source": [
        "# Q10.  Explain why strings are immutable in Python?\n",
        " - Strings in Python are immutable, meaning once a string is created, its value cannot be changed. because Strings are stored in memory as a sequence of characters.\n",
        "\n",
        " - If we try to modify a string, Python creates a new string object instead of changing the original one.\n",
        "\n",
        " - This design choice ensures data safety, consistency, and efficient memory usage.\n",
        "\n",
        " - Example\n",
        "\n",
        "   - text = \"Hello\"\n",
        "   - new_text = text.replace(\"H\", \"J\")\n",
        "   - print(text)      # Output: Hello\n",
        "   - print(new_text)  # Output: Jello\n",
        "\n",
        "\n",
        " - Here, the original string \"Hello\" remains unchanged. A new string \"Jello\" is created. Strings are immutable to maintain data integrity and to make string operations more reliable and efficient."
      ],
      "metadata": {
        "id": "jKddGpsC-cUd"
      }
    },
    {
      "cell_type": "markdown",
      "source": [
        "# Q11. What advantages do dictionaries offer over lists for certain tasks?\n",
        "\n",
        " - **Key-Value Access**\n",
        "\n",
        "   - In dictionaries, data is stored as key–value pairs, allowing direct access to values using keys.\n",
        "\n",
        "   - In lists, elements can only be accessed using their index positions.\n",
        "\n",
        " - **Faster Lookups**\n",
        "\n",
        "   - Dictionaries use hashing, which makes searching for a key very fast.\n",
        "\n",
        "   - Lists require linear search, which is slower for large datasets.\n",
        "\n",
        " - **Better Data Organization**\n",
        "\n",
        "   - Dictionaries provide a clear relationship between keys and values.\n",
        "\n",
        "   - This makes them more suitable for representing real-world data (e.g., student records, product details).\n"
      ],
      "metadata": {
        "id": "zbpp7tG--b9E"
      }
    },
    {
      "cell_type": "markdown",
      "source": [
        "# Q12. Describe a scenario where using a tuple would be preferable over a list?\n",
        " - **Immutability**: Data should not be modified.\n",
        "\n",
        " - **Performance**: Slightly faster for iteration and access.\n",
        "\n",
        " - **Hashable**: Can be used as dictionary keys.\n",
        "\n",
        " - **Data Integrity**: Signals that data should remain constant.\n",
        "\n",
        " - **Heterogeneous Data**: Grouping fixed, different data types."
      ],
      "metadata": {
        "id": "WG9-u0QOA2iC"
      }
    },
    {
      "cell_type": "markdown",
      "source": [
        "# Q13. How do sets handle duplicate values in Python?\n",
        "\n",
        " -  A set in Python is a collection data type that stores unordered and unique elements.\n",
        "When we insert values into a set, Python automatically removes any duplicates and keeps only one copy of each element.\n",
        "\n",
        "Example:\n",
        "\n",
        " -  my_set = {1, 2, 2, 3, 4, 4, 5}\n",
        " - print(my_set)\n",
        " - Output: {1, 2, 3, 4, 5}\n",
        "\n",
        "***Sets do not allow duplicate values.***\n",
        "\n",
        " - If duplicates are given, only one instance is stored.\n",
        "\n",
        " - Sets are useful when we need a collection of unique items.\n",
        "\n",
        " - The order of elements is not fixed (unordered).\n"
      ],
      "metadata": {
        "id": "b1mQZsGuA2bg"
      }
    },
    {
      "cell_type": "markdown",
      "source": [
        "# Q14. How does the “in” keyword work differently for lists and dictionaries?\n",
        "\n",
        "-  The in keyword is used to check membership in Python, but it behaves differently for lists and dictionaries.\n",
        "\n",
        "- For lists\n",
        "\n",
        "    - The in keyword checks whether the given element exists in the list. It searches through all items one by one.\n",
        "\n",
        "Example:\n",
        "\n",
        "   - numbers = [10, 20, 30, 40]\n",
        "   - print(20 in numbers)   # True\n",
        "   - print(50 in numbers)   # False\n",
        "\n",
        "- For dictionaries\n",
        "\n",
        "   - The in keyword checks only for keys, not values.\n",
        "\n",
        "   - If you want to check values, you must use .values().\n",
        "\n",
        "Example:\n",
        "\n",
        "   - my_dict = {\"a\": 1, \"b\": 2, \"c\": 3}\n",
        "\n",
        "   - print(\"a\" in my_dict)          # True  (key exists)\n",
        "   - print(2 in my_dict)            # False (2 is a value, not a key)\n",
        "   - print(2 in my_dict.values())   # True  (checks values)\n"
      ],
      "metadata": {
        "id": "d8XFWxP_A2RB"
      }
    },
    {
      "cell_type": "markdown",
      "source": [
        "# Q15. Can you modify the elements of a tuple? Explain why or why not?\n",
        "\n",
        "-  No, we cannot modify the elements of a tuple in Python.\n",
        "\n",
        "Explanation:\n",
        "\n",
        "  - A tuple is an immutable data type, which means once it is created, its elements cannot be changed, added, or removed.\n",
        "\n",
        "   - This immutability makes tuples faster and safer to use when we want fixed data.\n",
        "\n",
        "Example:\n",
        "\n",
        "  - my_tuple = (10, 20, 30)\n",
        "  - my_tuple[1] = 50   # Error: 'tuple' object does not support item assignment\n",
        "\n",
        "Key Points:\n",
        "\n",
        "  - Tuples are immutable (cannot be changed after creation).\n",
        "\n",
        "  - We cannot modify, insert, or delete elements.\n",
        "\n",
        "  - If modification is needed, we should use a list instead."
      ],
      "metadata": {
        "id": "95jx6iNAA2DL"
      }
    },
    {
      "cell_type": "markdown",
      "source": [
        "# Q16. What is a nested dictionary, and give an example of its use case?\n",
        "\n",
        "-  A nested dictionary in Python is a dictionary where values themselves are dictionaries.\n",
        "It is used to store data in a hierarchical (multi-level) structure.\n",
        "\n",
        "Example:\n",
        "# Nested dictionary example\n",
        "\n",
        "students = {\n",
        "    \"student1\": {\"name\": \"Alice\", \"age\": 20, \"course\": \"CS\"},\n",
        "    \"student2\": {\"name\": \"Bob\", \"age\": 22, \"course\": \"Math\"}\n",
        "}\n",
        "\n",
        "print(students[\"student1\"][\"name\"])   # Output: Alice\n",
        "\n",
        "**Use Case:**\n",
        "\n",
        " - Managing structured data, like storing student records, employee details, or product info.\n",
        "\n",
        "Example: A school database where each student has their own details (name, age, course) stored in a dictionary inside a larger dictionary."
      ],
      "metadata": {
        "id": "B2bbrzxGA18F"
      }
    },
    {
      "cell_type": "markdown",
      "source": [
        "# Q17. Describe the time complexity of accessing elements in a dictionary?\n",
        "\n",
        "-  A dictionary is implemented using a hash table.\n",
        "\n",
        "   - Accessing an element by its key (e.g., my_dict[key]) has an average-case time complexity of O(1), because the hash function computes the position directly.\n",
        "\n",
        "   - However, in the worst case, if many keys have the same hash (hash collision), it can degrade to O(n).\n",
        "\n",
        "Key Points:\n",
        "\n",
        "    - Average case: O(1) - very fast lookup.\n",
        "\n",
        "    - Worst case: O(n) - happens rarely due to collisions.\n",
        "\n",
        "-  Dictionaries are efficient for operations like search, insert, and delete by key."
      ],
      "metadata": {
        "id": "8TZHG9yDA107"
      }
    },
    {
      "cell_type": "markdown",
      "source": [
        "# Q18. In what situations are lists preferred over dictionaries?\n",
        "\n",
        "-  A list is an ordered collection of elements. It is preferred over dictionaries in the following cases:\n",
        "\n",
        "   - When the data is ordered and the sequence matters.\n",
        "\n",
        "   - When you only need to store values, not key–value pairs.\n",
        "\n",
        "   - When you need to access elements by their index/position.\n",
        "\n",
        "-  For small collections where fast lookups by key are not required.\n",
        "\n",
        "Example:\n",
        "\n",
        "    -  fruits = [\"apple\", \"banana\", \"mango\"]\n",
        "    -  print(fruits[1])   # Access by index → banana\n",
        "\n",
        "\n",
        "- So, lists are preferred when working with simple, ordered data collections."
      ],
      "metadata": {
        "id": "O5P62Q40A1uD"
      }
    },
    {
      "cell_type": "markdown",
      "source": [
        "# Q19. Why are dictionaries considered unordered, and how does that affect data retrieval?\n",
        "\n",
        "-  In Python, a dictionary stores data as key–value pairs using a hash table.\n",
        "\n",
        "   - The placement of elements depends on the hash values of keys, not on the order in which they were inserted.\n",
        "\n",
        "   - That is why dictionaries are considered unordered collections.\n",
        "\n",
        "\n",
        "- How it Affects Data Retrieval:\n",
        "\n",
        "   - You cannot access dictionary items by an index (like in lists).\n",
        "\n",
        "   - Data retrieval is always done by using the key, not by position.\n",
        "\n",
        "- Order of items should not be relied upon for algorithms that depend on sequence.\n",
        "\n",
        "- Example:\n",
        "\n",
        "    - my_dict = {\"a\": 1, \"b\": 2, \"c\": 3}\n",
        "\n",
        "    - print(my_dict[\"b\"])   # Access by key → 2\n",
        "-  No index-based access like my_dict[0]\n",
        "\n",
        "\n",
        "- So, dictionaries are considered unordered because they are designed for fast key-based lookups, not positional storage."
      ],
      "metadata": {
        "id": "Gm-NoPAWA1me"
      }
    },
    {
      "cell_type": "markdown",
      "source": [
        "# Q20.  Explain the difference between a list and a dictionary in terms of data retrieval?\n",
        "\n",
        "- List\n",
        "\n",
        "  - A list stores elements in an ordered sequence.\n",
        "\n",
        "  - Data is retrieved using an index (position number).\n",
        "\n",
        "- Example:\n",
        "\n",
        "  - fruits = [\"apple\", \"banana\", \"mango\"]\n",
        "  - print(fruits[1])   # Output: banana\n",
        "\n",
        "\n",
        "- Dictionary\n",
        "\n",
        "  - A dictionary stores data as key–value pairs.\n",
        "\n",
        "  - Data is retrieved using the key, not an index.\n",
        "\n",
        "- Example:\n",
        "\n",
        "student = {\"name\": \"Alice\", \"age\": 20}\n",
        "print(student[\"age\"])   # Output: 20\n",
        "\n",
        "- Key Point:\n",
        "\n",
        "  - List retrieval → by index\n",
        "\n",
        "Dictionary retrieval → by key"
      ],
      "metadata": {
        "id": "mTk0-rc-A1fG"
      }
    },
    {
      "cell_type": "code",
      "source": [
        "# Q1. Write a code to create a string with your name and print it?\n",
        "\n",
        "name = \"Yuvraj\"\n",
        "print(name)\n",
        "\n",
        "\n"
      ],
      "metadata": {
        "colab": {
          "base_uri": "https://localhost:8080/"
        },
        "id": "7aRTkte_WfSm",
        "outputId": "9623551e-e5d6-4691-e7f1-d967edb5409a"
      },
      "execution_count": 1,
      "outputs": [
        {
          "output_type": "stream",
          "name": "stdout",
          "text": [
            "Yuvraj\n"
          ]
        }
      ]
    },
    {
      "cell_type": "code",
      "source": [
        "# Q2. Write a code to find the length of the string \"Hello World\"\n",
        "\n",
        "# String\n",
        "text = \"Hello World\"\n",
        "\n",
        "# Finding length using len() function\n",
        "length = len(text)\n",
        "\n",
        "# Printing the result\n",
        "print(\"Length of the string:\", length)\n"
      ],
      "metadata": {
        "colab": {
          "base_uri": "https://localhost:8080/"
        },
        "id": "CWmhY7AIWg93",
        "outputId": "1cee4815-3f87-4148-f212-d6caa0f563bf"
      },
      "execution_count": 2,
      "outputs": [
        {
          "output_type": "stream",
          "name": "stdout",
          "text": [
            "Length of the string: 11\n"
          ]
        }
      ]
    },
    {
      "cell_type": "code",
      "source": [
        "# Q3. Write a code to slice the first 3 characters from the string \"Python Programming\"\n",
        "\n",
        "# String\n",
        "text = \"Python Programming\"\n",
        "\n",
        "# Slicing first 3 characters\n",
        "sliced_text = text[:3]\n",
        "\n",
        "# Printing the result\n",
        "print(\"First 3 characters:\", sliced_text)\n"
      ],
      "metadata": {
        "colab": {
          "base_uri": "https://localhost:8080/"
        },
        "id": "wI9v4jGmWg30",
        "outputId": "519adc98-b09f-449e-f34e-534fec9039fe"
      },
      "execution_count": 3,
      "outputs": [
        {
          "output_type": "stream",
          "name": "stdout",
          "text": [
            "First 3 characters: Pyt\n"
          ]
        }
      ]
    },
    {
      "cell_type": "code",
      "source": [
        "# Q4. Write a code to convert the string \"hello\" to uppercase?\n",
        "\n",
        "# String\n",
        "text = \"hello\"\n",
        "\n",
        "# Converting to uppercase\n",
        "uppercase_text = text.upper()\n",
        "\n",
        "# Printing the result\n",
        "print(\"Uppercase string:\", uppercase_text)\n"
      ],
      "metadata": {
        "colab": {
          "base_uri": "https://localhost:8080/"
        },
        "id": "_Chfbc9wWgxh",
        "outputId": "53b0d0d7-1509-4f6a-cc5f-38231ae2f52b"
      },
      "execution_count": 4,
      "outputs": [
        {
          "output_type": "stream",
          "name": "stdout",
          "text": [
            "Uppercase string: HELLO\n"
          ]
        }
      ]
    },
    {
      "cell_type": "code",
      "source": [
        "# Q5. Write a code to replace the word \"apple\" with \"orange\" in the string \"I like apple\"\n",
        "\n",
        "# String\n",
        "text = \"I like apple\"\n",
        "\n",
        "# Replacing 'apple' with 'orange'\n",
        "new_text = text.replace(\"apple\", \"orange\")\n",
        "\n",
        "# Printing the result\n",
        "print(new_text)\n"
      ],
      "metadata": {
        "id": "Lr7_2S_cWgrP"
      },
      "execution_count": null,
      "outputs": []
    },
    {
      "cell_type": "code",
      "source": [
        "# Q6. Write a code to create a list with numbers 1 to 5 and print it\n",
        "\n",
        "# Creating a list with numbers 1 to 5\n",
        "numbers = [1, 2, 3, 4, 5]\n",
        "\n",
        "# Printing the list\n",
        "print(numbers)\n"
      ],
      "metadata": {
        "colab": {
          "base_uri": "https://localhost:8080/"
        },
        "id": "XaO4dUaOWglL",
        "outputId": "ef5bf53c-9670-4214-8199-a9f68ab3c52b"
      },
      "execution_count": 9,
      "outputs": [
        {
          "output_type": "stream",
          "name": "stdout",
          "text": [
            "[1, 2, 3, 4, 5]\n"
          ]
        }
      ]
    },
    {
      "cell_type": "code",
      "source": [
        "# Q7. Write a code to append the number 10 to the list [1, 2, 3, 4]\n",
        "\n",
        "# Original list\n",
        "numbers = [1, 2, 3, 4]\n",
        "\n",
        "# Appending number 10\n",
        "numbers.append(10)\n",
        "\n",
        "# Printing the updated list\n",
        "print(numbers)\n"
      ],
      "metadata": {
        "colab": {
          "base_uri": "https://localhost:8080/"
        },
        "id": "Bq-ugyPgWge9",
        "outputId": "52b80658-e51f-4a44-bde7-49b59e66af31"
      },
      "execution_count": 8,
      "outputs": [
        {
          "output_type": "stream",
          "name": "stdout",
          "text": [
            "[1, 2, 3, 4, 10]\n"
          ]
        }
      ]
    },
    {
      "cell_type": "code",
      "source": [
        "# Q8. Write a code to remove the number 3 from the list [1, 2, 3, 4, 5]\n",
        "\n",
        "# Original list\n",
        "numbers = [1, 2, 3, 4, 5]\n",
        "\n",
        "# Removing number 3\n",
        "numbers.remove(3)\n",
        "\n",
        "# Printing the updated list\n",
        "print(numbers)\n"
      ],
      "metadata": {
        "colab": {
          "base_uri": "https://localhost:8080/"
        },
        "id": "k9f014apWgZq",
        "outputId": "306514e2-108e-409d-bb66-4aa035e70772"
      },
      "execution_count": 7,
      "outputs": [
        {
          "output_type": "stream",
          "name": "stdout",
          "text": [
            "[1, 2, 4, 5]\n"
          ]
        }
      ]
    },
    {
      "cell_type": "code",
      "source": [
        "# Q9. Write a code to access the second element in the list ['a', 'b', 'c', 'd']\n",
        "\n",
        "# List\n",
        "letters = ['a', 'b', 'c', 'd']\n",
        "\n",
        "# Accessing the second element (index 1)\n",
        "second_element = letters[1]\n",
        "\n",
        "# Printing the element\n",
        "print(\"Second element:\", second_element)\n"
      ],
      "metadata": {
        "colab": {
          "base_uri": "https://localhost:8080/"
        },
        "id": "0rjh6rEnWgSU",
        "outputId": "e23dc1fb-cbc0-46e1-9b91-b56cbf9ad133"
      },
      "execution_count": 6,
      "outputs": [
        {
          "output_type": "stream",
          "name": "stdout",
          "text": [
            "Second element: b\n"
          ]
        }
      ]
    },
    {
      "cell_type": "markdown",
      "source": [],
      "metadata": {
        "id": "_l7k0ds0YpCF"
      }
    },
    {
      "cell_type": "code",
      "source": [
        "# Q10. Write a code to reverse the list [10, 20, 30, 40, 50].\n",
        "\n",
        "# Original list\n",
        "numbers = [10, 20, 30, 40, 50]\n",
        "\n",
        "# Reversing the list\n",
        "numbers.reverse()\n",
        "\n",
        "# Printing the reversed list\n",
        "print(numbers)\n"
      ],
      "metadata": {
        "colab": {
          "base_uri": "https://localhost:8080/"
        },
        "id": "ZZftCb19WgLT",
        "outputId": "79ad96c2-99ae-4321-a07e-ddf5ed9d1508"
      },
      "execution_count": 5,
      "outputs": [
        {
          "output_type": "stream",
          "name": "stdout",
          "text": [
            "[50, 40, 30, 20, 10]\n"
          ]
        }
      ]
    }
  ]
}